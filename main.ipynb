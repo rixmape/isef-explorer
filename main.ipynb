{
 "cells": [
  {
   "cell_type": "code",
   "execution_count": 12,
   "metadata": {},
   "outputs": [],
   "source": [
    "import pandas as pd\n",
    "import requests\n",
    "from bs4 import BeautifulSoup"
   ]
  },
  {
   "cell_type": "code",
   "execution_count": 2,
   "metadata": {},
   "outputs": [],
   "source": [
    "with open(\"isef_list_page.html\", encoding=\"utf-8\") as f:\n",
    "    soup = BeautifulSoup(f, \"html.parser\")"
   ]
  },
  {
   "cell_type": "code",
   "execution_count": 4,
   "metadata": {},
   "outputs": [
    {
     "data": {
      "text/plain": [
       "14872"
      ]
     },
     "execution_count": 4,
     "metadata": {},
     "output_type": "execute_result"
    }
   ],
   "source": [
    "table = soup.select_one(\"#tblAbstractSearchResults\")\n",
    "rows = table.select(\"tr\")\n",
    "len(rows)"
   ]
  },
  {
   "cell_type": "code",
   "execution_count": 7,
   "metadata": {},
   "outputs": [
    {
     "data": {
      "text/plain": [
       "['Year',\n",
       " 'Finalist Name(s)',\n",
       " 'Project Title',\n",
       " 'Category',\n",
       " 'Fair Country',\n",
       " 'Fair State',\n",
       " 'Fair Province',\n",
       " 'Awards Won']"
      ]
     },
     "execution_count": 7,
     "metadata": {},
     "output_type": "execute_result"
    }
   ],
   "source": [
    "headers = [header.text for header in rows[0].select(\"th\")]\n",
    "headers"
   ]
  },
  {
   "cell_type": "code",
   "execution_count": 18,
   "metadata": {},
   "outputs": [
    {
     "data": {
      "text/plain": [
       "['Year',\n",
       " 'Finalist Name(s)',\n",
       " 'Project Title',\n",
       " 'Category',\n",
       " 'Fair Country',\n",
       " 'Fair State',\n",
       " 'Fair Province',\n",
       " 'Awards Won',\n",
       " 'Link']"
      ]
     },
     "execution_count": 18,
     "metadata": {},
     "output_type": "execute_result"
    }
   ],
   "source": [
    "headers += [\"Link\"]"
   ]
  },
  {
   "cell_type": "code",
   "execution_count": 22,
   "metadata": {},
   "outputs": [
    {
     "data": {
      "text/html": [
       "<div>\n",
       "<style scoped>\n",
       "    .dataframe tbody tr th:only-of-type {\n",
       "        vertical-align: middle;\n",
       "    }\n",
       "\n",
       "    .dataframe tbody tr th {\n",
       "        vertical-align: top;\n",
       "    }\n",
       "\n",
       "    .dataframe thead th {\n",
       "        text-align: right;\n",
       "    }\n",
       "</style>\n",
       "<table border=\"1\" class=\"dataframe\">\n",
       "  <thead>\n",
       "    <tr style=\"text-align: right;\">\n",
       "      <th></th>\n",
       "      <th>Year</th>\n",
       "      <th>Finalist Name(s)</th>\n",
       "      <th>Project Title</th>\n",
       "      <th>Category</th>\n",
       "      <th>Fair Country</th>\n",
       "      <th>Fair State</th>\n",
       "      <th>Fair Province</th>\n",
       "      <th>Awards Won</th>\n",
       "      <th>Link</th>\n",
       "    </tr>\n",
       "  </thead>\n",
       "  <tbody>\n",
       "    <tr>\n",
       "      <th>0</th>\n",
       "      <td>2014</td>\n",
       "      <td>Kitaoka, Robert</td>\n",
       "      <td>Dynamic Response of a Human Neck Replica to Ax...</td>\n",
       "      <td>Energy: Physical</td>\n",
       "      <td>United States of America</td>\n",
       "      <td>MN</td>\n",
       "      <td></td>\n",
       "      <td></td>\n",
       "      <td>https://abstracts.societyforscience.org/Home/F...</td>\n",
       "    </tr>\n",
       "    <tr>\n",
       "      <th>1</th>\n",
       "      <td>2014</td>\n",
       "      <td>Swan, Boston</td>\n",
       "      <td>The Effect of Nutrient Solution Concentration ...</td>\n",
       "      <td>Physics and Astronomy</td>\n",
       "      <td>United States of America</td>\n",
       "      <td>UT</td>\n",
       "      <td></td>\n",
       "      <td></td>\n",
       "      <td>https://abstracts.societyforscience.org/Home/F...</td>\n",
       "    </tr>\n",
       "    <tr>\n",
       "      <th>2</th>\n",
       "      <td>2014</td>\n",
       "      <td>Ham, John</td>\n",
       "      <td>Do Air Root Pruning Pots Accelerate Success in...</td>\n",
       "      <td>Physics and Astronomy</td>\n",
       "      <td>United States of America</td>\n",
       "      <td>LA</td>\n",
       "      <td></td>\n",
       "      <td></td>\n",
       "      <td>https://abstracts.societyforscience.org/Home/F...</td>\n",
       "    </tr>\n",
       "    <tr>\n",
       "      <th>3</th>\n",
       "      <td>2014</td>\n",
       "      <td>Huh, Heeyong</td>\n",
       "      <td>Insect-repelling Plants &amp; New Organic Pesticide</td>\n",
       "      <td>Environmental Engineering</td>\n",
       "      <td>United States of America</td>\n",
       "      <td>TX</td>\n",
       "      <td></td>\n",
       "      <td></td>\n",
       "      <td>https://abstracts.societyforscience.org/Home/F...</td>\n",
       "    </tr>\n",
       "    <tr>\n",
       "      <th>4</th>\n",
       "      <td>2014</td>\n",
       "      <td>Ince, Lucas</td>\n",
       "      <td>How Do Different Factors Affect the Accuracy o...</td>\n",
       "      <td>Earth and Environmental Sciences</td>\n",
       "      <td>United States of America</td>\n",
       "      <td>MN</td>\n",
       "      <td></td>\n",
       "      <td></td>\n",
       "      <td>https://abstracts.societyforscience.org/Home/F...</td>\n",
       "    </tr>\n",
       "  </tbody>\n",
       "</table>\n",
       "</div>"
      ],
      "text/plain": [
       "   Year Finalist Name(s)                                      Project Title  \\\n",
       "0  2014  Kitaoka, Robert  Dynamic Response of a Human Neck Replica to Ax...   \n",
       "1  2014     Swan, Boston  The Effect of Nutrient Solution Concentration ...   \n",
       "2  2014        Ham, John  Do Air Root Pruning Pots Accelerate Success in...   \n",
       "3  2014     Huh, Heeyong    Insect-repelling Plants & New Organic Pesticide   \n",
       "4  2014      Ince, Lucas  How Do Different Factors Affect the Accuracy o...   \n",
       "\n",
       "                           Category              Fair Country Fair State  \\\n",
       "0                  Energy: Physical  United States of America         MN   \n",
       "1             Physics and Astronomy  United States of America         UT   \n",
       "2             Physics and Astronomy  United States of America         LA   \n",
       "3         Environmental Engineering  United States of America         TX   \n",
       "4  Earth and Environmental Sciences  United States of America         MN   \n",
       "\n",
       "  Fair Province Awards Won                                               Link  \n",
       "0                           https://abstracts.societyforscience.org/Home/F...  \n",
       "1                           https://abstracts.societyforscience.org/Home/F...  \n",
       "2                           https://abstracts.societyforscience.org/Home/F...  \n",
       "3                           https://abstracts.societyforscience.org/Home/F...  \n",
       "4                           https://abstracts.societyforscience.org/Home/F...  "
      ]
     },
     "execution_count": 22,
     "metadata": {},
     "output_type": "execute_result"
    }
   ],
   "source": [
    "BASE_URL = \"https://abstracts.societyforscience.org\"\n",
    "data = []\n",
    "\n",
    "for row in rows[1:]:\n",
    "    data.append([\" \".join(cell.text.split()) for cell in row.select(\"td\")])\n",
    "    data[-1].append(BASE_URL + row.select_one(\"a\")[\"href\"])\n",
    "\n",
    "df = pd.DataFrame(data, columns=headers)\n",
    "df.head()"
   ]
  },
  {
   "cell_type": "code",
   "execution_count": 20,
   "metadata": {},
   "outputs": [
    {
     "name": "stdout",
     "output_type": "stream",
     "text": [
      "<class 'pandas.core.frame.DataFrame'>\n",
      "RangeIndex: 14871 entries, 0 to 14870\n",
      "Data columns (total 9 columns):\n",
      " #   Column            Non-Null Count  Dtype \n",
      "---  ------            --------------  ----- \n",
      " 0   Year              14871 non-null  object\n",
      " 1   Finalist Name(s)  14871 non-null  object\n",
      " 2   Project Title     14871 non-null  object\n",
      " 3   Category          14871 non-null  object\n",
      " 4   Fair Country      14871 non-null  object\n",
      " 5   Fair State        14871 non-null  object\n",
      " 6   Fair Province     14871 non-null  object\n",
      " 7   Awards Won        14871 non-null  object\n",
      " 8   Link              14871 non-null  object\n",
      "dtypes: object(9)\n",
      "memory usage: 1.0+ MB\n"
     ]
    }
   ],
   "source": [
    "df.info()"
   ]
  },
  {
   "cell_type": "code",
   "execution_count": 23,
   "metadata": {},
   "outputs": [],
   "source": [
    "df.to_csv(\"isef.csv\", index=False)"
   ]
  },
  {
   "cell_type": "code",
   "execution_count": null,
   "metadata": {},
   "outputs": [],
   "source": []
  }
 ],
 "metadata": {
  "kernelspec": {
   "display_name": ".venv",
   "language": "python",
   "name": "python3"
  },
  "language_info": {
   "codemirror_mode": {
    "name": "ipython",
    "version": 3
   },
   "file_extension": ".py",
   "mimetype": "text/x-python",
   "name": "python",
   "nbconvert_exporter": "python",
   "pygments_lexer": "ipython3",
   "version": "3.12.3"
  }
 },
 "nbformat": 4,
 "nbformat_minor": 2
}
